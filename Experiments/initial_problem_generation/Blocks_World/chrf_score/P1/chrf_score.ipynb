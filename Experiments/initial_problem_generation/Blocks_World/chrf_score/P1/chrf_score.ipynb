{
 "cells": [
  {
   "cell_type": "code",
   "execution_count": 3,
   "metadata": {},
   "outputs": [
    {
     "name": "stdout",
     "output_type": "stream",
     "text": [
      "Requirement already satisfied: nltk in /opt/anaconda3/lib/python3.12/site-packages (3.9.1)\n",
      "Requirement already satisfied: click in /opt/anaconda3/lib/python3.12/site-packages (from nltk) (8.1.7)\n",
      "Requirement already satisfied: joblib in /opt/anaconda3/lib/python3.12/site-packages (from nltk) (1.4.2)\n",
      "Requirement already satisfied: regex>=2021.8.3 in /opt/anaconda3/lib/python3.12/site-packages (from nltk) (2024.9.11)\n",
      "Requirement already satisfied: tqdm in /opt/anaconda3/lib/python3.12/site-packages (from nltk) (4.66.5)\n"
     ]
    }
   ],
   "source": [
    "!pip install nltk"
   ]
  },
  {
   "cell_type": "code",
   "execution_count": 3,
   "metadata": {},
   "outputs": [
    {
     "name": "stdout",
     "output_type": "stream",
     "text": [
      "Reference loaded: P_1_sd.pddl\n",
      "p1_devstral.pddl: 0.9841\n",
      "p1_12b.pddl: 0.9372\n",
      "p1_4b.pddl: 0.9398\n",
      "p1_27b.pddl: 0.9450\n",
      "p1_1b.pddl: 0.8183\n",
      "\n",
      "=== Results Summary ===\n",
      "p1_devstral.pddl: 0.9841\n",
      "p1_27b.pddl: 0.9450\n",
      "p1_4b.pddl: 0.9398\n",
      "p1_12b.pddl: 0.9372\n",
      "p1_1b.pddl: 0.8183\n",
      "\n",
      "Average Score: 0.9249\n"
     ]
    }
   ],
   "source": [
    "from nltk.translate.chrf_score import sentence_chrf\n",
    "import os\n",
    "\n",
    "def read_file(file_path):\n",
    "    \"\"\"Read file content\"\"\"\n",
    "    with open(file_path, 'r', encoding='utf-8') as f:\n",
    "        return f.read().strip()\n",
    "\n",
    "# Read reference file\n",
    "reference_path = \"/Users/qinxinyue/Desktop/5106/Experiments/initial_problem_generation/Blocks_World/chrf_score/P1/P_1_sd.pddl\"\n",
    "reference_text = read_file(reference_path)\n",
    "print(f\"Reference loaded: {os.path.basename(reference_path)}\")\n",
    "\n",
    "# Directory containing hypothesis files\n",
    "hypotheses_dir = \"/Users/qinxinyue/Desktop/5106/Experiments/initial_problem_generation/Blocks_World/chrf_score/P1\"\n",
    "hypothesis_files = [f for f in os.listdir(hypotheses_dir) \n",
    "                   if f.endswith('.pddl') and f != os.path.basename(reference_path)]\n",
    "\n",
    "# Calculate ChrF score for each hypothesis file\n",
    "results = {}\n",
    "for hyp_file in hypothesis_files:\n",
    "    hyp_path = os.path.join(hypotheses_dir, hyp_file)\n",
    "    hypothesis_text = read_file(hyp_path)\n",
    "    \n",
    "    score = sentence_chrf(reference_text, hypothesis_text, beta=2.0)\n",
    "    results[hyp_file] = score\n",
    "    print(f\"{hyp_file}: {score:.4f}\")\n",
    "\n",
    "# Output summary\n",
    "print(\"\\n=== Results Summary ===\")\n",
    "for filename, score in sorted(results.items(), key=lambda x: x[1], reverse=True):\n",
    "    print(f\"{filename}: {score:.4f}\")\n",
    "\n",
    "# Calculate average score\n",
    "if results:\n",
    "    avg_score = sum(results.values()) / len(results)\n",
    "    print(f\"\\nAverage Score: {avg_score:.4f}\")"
   ]
  }
 ],
 "metadata": {
  "kernelspec": {
   "display_name": "base",
   "language": "python",
   "name": "python3"
  },
  "language_info": {
   "codemirror_mode": {
    "name": "ipython",
    "version": 3
   },
   "file_extension": ".py",
   "mimetype": "text/x-python",
   "name": "python",
   "nbconvert_exporter": "python",
   "pygments_lexer": "ipython3",
   "version": "3.12.7"
  }
 },
 "nbformat": 4,
 "nbformat_minor": 2
}
