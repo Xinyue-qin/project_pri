{
 "cells": [
  {
   "cell_type": "code",
   "execution_count": 1,
   "metadata": {},
   "outputs": [
    {
     "name": "stdout",
     "output_type": "stream",
     "text": [
      "Collecting nltk\n",
      "  Downloading nltk-3.9.1-py3-none-any.whl.metadata (2.9 kB)\n",
      "Collecting click (from nltk)\n",
      "  Downloading click-8.2.1-py3-none-any.whl.metadata (2.5 kB)\n",
      "Collecting joblib (from nltk)\n",
      "  Downloading joblib-1.5.2-py3-none-any.whl.metadata (5.6 kB)\n",
      "Collecting regex>=2021.8.3 (from nltk)\n",
      "  Downloading regex-2025.7.34-cp312-cp312-macosx_11_0_arm64.whl.metadata (40 kB)\n",
      "Collecting tqdm (from nltk)\n",
      "  Downloading tqdm-4.67.1-py3-none-any.whl.metadata (57 kB)\n",
      "Downloading nltk-3.9.1-py3-none-any.whl (1.5 MB)\n",
      "\u001b[2K   \u001b[90m━━━━━━━━━━━━━━━━━━━━━━━━━━━━━━━━━━━━━━━━\u001b[0m \u001b[32m1.5/1.5 MB\u001b[0m \u001b[31m3.4 MB/s\u001b[0m eta \u001b[36m0:00:00\u001b[0ma \u001b[36m0:00:01\u001b[0m\n",
      "\u001b[?25hDownloading regex-2025.7.34-cp312-cp312-macosx_11_0_arm64.whl (286 kB)\n",
      "Downloading click-8.2.1-py3-none-any.whl (102 kB)\n",
      "Downloading joblib-1.5.2-py3-none-any.whl (308 kB)\n",
      "Downloading tqdm-4.67.1-py3-none-any.whl (78 kB)\n",
      "Installing collected packages: tqdm, regex, joblib, click, nltk\n",
      "Successfully installed click-8.2.1 joblib-1.5.2 nltk-3.9.1 regex-2025.7.34 tqdm-4.67.1\n",
      "\n",
      "\u001b[1m[\u001b[0m\u001b[34;49mnotice\u001b[0m\u001b[1;39;49m]\u001b[0m\u001b[39;49m A new release of pip is available: \u001b[0m\u001b[31;49m24.3.1\u001b[0m\u001b[39;49m -> \u001b[0m\u001b[32;49m25.2\u001b[0m\n",
      "\u001b[1m[\u001b[0m\u001b[34;49mnotice\u001b[0m\u001b[1;39;49m]\u001b[0m\u001b[39;49m To update, run: \u001b[0m\u001b[32;49mpip install --upgrade pip\u001b[0m\n"
     ]
    }
   ],
   "source": [
    "!pip install nltk"
   ]
  },
  {
   "cell_type": "code",
   "execution_count": 1,
   "metadata": {},
   "outputs": [
    {
     "name": "stdout",
     "output_type": "stream",
     "text": [
      "Reference loaded: p1_sd.pddl\n",
      "p1_g4b.pddl: 0.9675\n",
      "p1_g1b.pddl: 0.8842\n",
      "p1_devstral.pddl: 0.9178\n",
      "p1_by_g12b.pddl: 0.9675\n",
      "p1_by_g27b.pddl: 0.9724\n",
      "\n",
      "=== Results Summary ===\n",
      "p1_by_g27b.pddl: 0.9724\n",
      "p1_g4b.pddl: 0.9675\n",
      "p1_by_g12b.pddl: 0.9675\n",
      "p1_devstral.pddl: 0.9178\n",
      "p1_g1b.pddl: 0.8842\n",
      "\n",
      "Average Score: 0.9419\n"
     ]
    }
   ],
   "source": [
    "from nltk.translate.chrf_score import sentence_chrf\n",
    "import os\n",
    "\n",
    "def read_file(file_path):\n",
    "    \"\"\"Read file content\"\"\"\n",
    "    with open(file_path, 'r', encoding='utf-8') as f:\n",
    "        return f.read().strip()\n",
    "\n",
    "# Read reference file\n",
    "reference_path = \"p1_sd.pddl\"\n",
    "reference_text = read_file(reference_path)\n",
    "print(f\"Reference loaded: {os.path.basename(reference_path)}\")\n",
    "\n",
    "# Directory containing hypothesis files\n",
    "hypotheses_dir = \"./\"\n",
    "hypothesis_files = [f for f in os.listdir(hypotheses_dir) \n",
    "                   if f.endswith('.pddl') and f != os.path.basename(reference_path)]\n",
    "\n",
    "# Calculate ChrF score for each hypothesis file\n",
    "results = {}\n",
    "for hyp_file in hypothesis_files:\n",
    "    hyp_path = os.path.join(hypotheses_dir, hyp_file)\n",
    "    hypothesis_text = read_file(hyp_path)\n",
    "    \n",
    "    score = sentence_chrf(reference_text, hypothesis_text, beta=2.0)\n",
    "    results[hyp_file] = score\n",
    "    print(f\"{hyp_file}: {score:.4f}\")\n",
    "\n",
    "# Output summary\n",
    "print(\"\\n=== Results Summary ===\")\n",
    "for filename, score in sorted(results.items(), key=lambda x: x[1], reverse=True):\n",
    "    print(f\"{filename}: {score:.4f}\")\n",
    "\n",
    "# Calculate average score\n",
    "if results:\n",
    "    avg_score = sum(results.values()) / len(results)\n",
    "    print(f\"\\nAverage Score: {avg_score:.4f}\")"
   ]
  }
 ],
 "metadata": {
  "kernelspec": {
   "display_name": "Python 3",
   "language": "python",
   "name": "python3"
  },
  "language_info": {
   "codemirror_mode": {
    "name": "ipython",
    "version": 3
   },
   "file_extension": ".py",
   "mimetype": "text/x-python",
   "name": "python",
   "nbconvert_exporter": "python",
   "pygments_lexer": "ipython3",
   "version": "3.12.9"
  }
 },
 "nbformat": 4,
 "nbformat_minor": 2
}
